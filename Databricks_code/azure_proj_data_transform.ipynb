{
 "cells": [
  {
   "cell_type": "markdown",
   "metadata": {
    "application/vnd.databricks.v1+cell": {
     "cellMetadata": {
      "byteLimit": 2048000,
      "rowLimit": 10000
     },
     "inputWidgets": {},
     "nuid": "9b55acbc-1afd-44d6-a45d-cdc4af47dbd1",
     "showTitle": false,
     "tableResultSettingsMap": {},
     "title": ""
    }
   },
   "source": [
    "Mounting data from ADLS"
   ]
  },
  {
   "cell_type": "code",
   "execution_count": 0,
   "metadata": {
    "application/vnd.databricks.v1+cell": {
     "cellMetadata": {
      "byteLimit": 2048000,
      "rowLimit": 10000
     },
     "inputWidgets": {},
     "nuid": "6f9dfa33-e03f-4c2a-91e7-cc8ff9fa1836",
     "showTitle": false,
     "tableResultSettingsMap": {},
     "title": ""
    }
   },
   "outputs": [
    {
     "output_type": "execute_result",
     "data": {
      "text/plain": [
       "True"
      ]
     },
     "execution_count": 27,
     "metadata": {},
     "output_type": "execute_result"
    }
   ],
   "source": [
    "configs = {\"fs.azure.account.auth.type\": \"OAuth\",\n",
    "\"fs.azure.account.oauth.provider.type\": \"org.apache.hadoop.fs.azurebfs.oauth2.ClientCredsTokenProvider\",\n",
    "\"fs.azure.account.oauth2.client.id\": \"",\n",
    "\"fs.azure.account.oauth2.client.secret\": '',\n",
    "\"fs.azure.account.oauth2.client.endpoint\": \"https://login.microsoftonline.com/tenent_id/oauth2/token\"}\n",
    "\n",
    "\n",
    "dbutils.fs.mount(\n",
    "source = \"abfss://rawdata@azureproj.dfs.core.windows.net\",\n",
    "mount_point = \"/mnt/rawdata\",\n",
    "extra_configs = configs)"
   ]
  },
  {
   "cell_type": "code",
   "execution_count": 0,
   "metadata": {
    "application/vnd.databricks.v1+cell": {
     "cellMetadata": {
      "byteLimit": 2048000,
      "rowLimit": 10000
     },
     "inputWidgets": {},
     "nuid": "f5ff95ae-8192-46ac-946b-a034dd5da495",
     "showTitle": false,
     "tableResultSettingsMap": {},
     "title": ""
    }
   },
   "outputs": [
    {
     "output_type": "display_data",
     "data": {
      "text/html": [
       "<style scoped>\n",
       "  .table-result-container {\n",
       "    max-height: 300px;\n",
       "    overflow: auto;\n",
       "  }\n",
       "  table, th, td {\n",
       "    border: 1px solid black;\n",
       "    border-collapse: collapse;\n",
       "  }\n",
       "  th, td {\n",
       "    padding: 5px;\n",
       "  }\n",
       "  th {\n",
       "    text-align: left;\n",
       "  }\n",
       "</style><div class='table-result-container'><table class='table-result'><thead style='background-color: white'><tr><th>path</th><th>name</th><th>size</th><th>modificationTime</th></tr></thead><tbody><tr><td>dbfs:/mnt/rawdata/Cars/</td><td>Cars/</td><td>0</td><td>1735334533000</td></tr><tr><td>dbfs:/mnt/rawdata/Cosmetics/</td><td>Cosmetics/</td><td>0</td><td>1735334533000</td></tr><tr><td>dbfs:/mnt/rawdata/DelhiClimate/</td><td>DelhiClimate/</td><td>0</td><td>1735334534000</td></tr><tr><td>dbfs:/mnt/rawdata/Transaction/</td><td>Transaction/</td><td>0</td><td>1735334544000</td></tr><tr><td>dbfs:/mnt/rawdata/Transformed_Data/</td><td>Transformed_Data/</td><td>0</td><td>1735414804000</td></tr></tbody></table></div>"
      ]
     },
     "metadata": {
      "application/vnd.databricks.v1+output": {
       "addedWidgets": {},
       "aggData": [],
       "aggError": "",
       "aggOverflow": false,
       "aggSchema": [],
       "aggSeriesLimitReached": false,
       "aggType": "",
       "arguments": {},
       "columnCustomDisplayInfos": {},
       "data": [
        [
         "dbfs:/mnt/rawdata/Cars/",
         "Cars/",
         0,
         1735334533000
        ],
        [
         "dbfs:/mnt/rawdata/Cosmetics/",
         "Cosmetics/",
         0,
         1735334533000
        ],
        [
         "dbfs:/mnt/rawdata/DelhiClimate/",
         "DelhiClimate/",
         0,
         1735334534000
        ],
        [
         "dbfs:/mnt/rawdata/Transaction/",
         "Transaction/",
         0,
         1735334544000
        ],
        [
         "dbfs:/mnt/rawdata/Transformed_Data/",
         "Transformed_Data/",
         0,
         1735414804000
        ]
       ],
       "datasetInfos": [],
       "dbfsResultPath": null,
       "isJsonSchema": true,
       "metadata": {
        "isDbfsCommandResult": false
       },
       "overflow": false,
       "plotOptions": {
        "customPlotOptions": {},
        "displayType": "table",
        "pivotAggregation": null,
        "pivotColumns": null,
        "xColumns": null,
        "yColumns": null
       },
       "removedWidgets": [],
       "schema": [
        {
         "metadata": "{}",
         "name": "path",
         "type": "\"string\""
        },
        {
         "metadata": "{}",
         "name": "name",
         "type": "\"string\""
        },
        {
         "metadata": "{}",
         "name": "size",
         "type": "\"long\""
        },
        {
         "metadata": "{}",
         "name": "modificationTime",
         "type": "\"long\""
        }
       ],
       "type": "table"
      }
     },
     "output_type": "display_data"
    }
   ],
   "source": [
    "%fs\n",
    "ls \"mnt/rawdata\""
   ]
  },
  {
   "cell_type": "markdown",
   "metadata": {
    "application/vnd.databricks.v1+cell": {
     "cellMetadata": {
      "byteLimit": 2048000,
      "rowLimit": 10000
     },
     "inputWidgets": {},
     "nuid": "1b71302c-ec72-4509-a433-f112ac9e4386",
     "showTitle": false,
     "tableResultSettingsMap": {},
     "title": ""
    }
   },
   "source": [
    "Loading Data"
   ]
  },
  {
   "cell_type": "code",
   "execution_count": 0,
   "metadata": {
    "application/vnd.databricks.v1+cell": {
     "cellMetadata": {
      "byteLimit": 2048000,
      "rowLimit": 10000
     },
     "inputWidgets": {},
     "nuid": "b1c34a46-bf91-41e9-bed7-f7ada68ea46d",
     "showTitle": false,
     "tableResultSettingsMap": {},
     "title": ""
    }
   },
   "outputs": [],
   "source": [
    "cars_df = spark.read.format(\"csv\").option(\"header\",\"true\").option(\"inferSchema\",\"true\").load(\"/mnt/rawdata/Cars/Car.csv\")\n",
    "cosmetics_df = spark.read.format(\"csv\").option(\"header\",\"true\").option(\"inferSchema\",\"true\").load(\"/mnt/rawdata/Cosmetics/Cosmetics.csv\")\n",
    "delhiclimate_df = spark.read.format(\"csv\").option(\"header\",\"true\").option(\"inferSchema\",\"true\").load(\"/mnt/rawdata/DelhiClimate/DailyDelhiClimateTest.csv\")\n",
    "transaction_df=spark.read.format(\"csv\").option(\"header\",\"true\").option(\"inferSchema\",\"true\").load(\"/mnt/rawdata/Transaction/transaction.csv\")\n"
   ]
  },
  {
   "cell_type": "markdown",
   "metadata": {
    "application/vnd.databricks.v1+cell": {
     "cellMetadata": {},
     "inputWidgets": {},
     "nuid": "469b5a5f-dd52-45f6-9907-de9f806ccd16",
     "showTitle": false,
     "tableResultSettingsMap": {},
     "title": ""
    }
   },
   "source": [
    "Transformations on Cars data"
   ]
  },
  {
   "cell_type": "code",
   "execution_count": 0,
   "metadata": {
    "application/vnd.databricks.v1+cell": {
     "cellMetadata": {
      "byteLimit": 2048000,
      "rowLimit": 10000
     },
     "inputWidgets": {},
     "nuid": "1e029273-3acc-42d8-b08f-71ac640799be",
     "showTitle": false,
     "tableResultSettingsMap": {},
     "title": ""
    }
   },
   "outputs": [
    {
     "output_type": "stream",
     "name": "stdout",
     "output_type": "stream",
     "text": [
      "+----------+-----------+-----------+-----------+\n|      make| horsepower|     torque|highway_mpg|\n+----------+-----------+-----------+-----------+\n|     Scion|156.6153846|      156.0|29.84615385|\n|      MINI|160.9677419|155.0322581|33.87096774|\n|       Kia|179.7407407|170.6740741|30.94814815|\n|     Honda|    188.225|     175.27|      30.41|\n|Volkswagen| 192.496124|210.4883721|30.19379845|\n|Mitsubishi|195.3529412|196.1960784|26.68627451|\n|    Subaru|205.2095238|200.8666667|26.53333333|\n|      Saab|222.5423729|236.1864407|27.52542373|\n|     Lotus|      231.0|168.0909091|26.36363636|\n|     Volvo|247.2427184|254.2038835| 25.7184466|\n|    Toyota|253.4492308|257.1446154|23.93846154|\n|     Acura|262.8484848|239.2727273|25.84848485|\n|  Mercedes|  280.21875|    298.875|   23.15625|\n|      Audi| 300.183908| 297.908046|25.17241379|\n|     Lexus|301.6153846|278.9230769|      25.25|\n|  Infiniti|322.1294118|281.4235294|24.29411765|\n|  Cadillac|     340.98|     324.76|      22.52|\n|       BMW|347.1804511|349.5338346|24.32330827|\n|Land Rover|373.8571429|363.2857143|19.54285714|\n|   Porsche|376.5490196|330.0588235|       24.0|\n+----------+-----------+-----------+-----------+\nonly showing top 20 rows\n\n"
     ]
    }
   ],
   "source": [
    "cars_df.show()"
   ]
  },
  {
   "cell_type": "code",
   "execution_count": 0,
   "metadata": {
    "application/vnd.databricks.v1+cell": {
     "cellMetadata": {
      "byteLimit": 2048000,
      "rowLimit": 10000
     },
     "inputWidgets": {},
     "nuid": "3ff1525b-8a92-4815-8a3c-587fffd007b3",
     "showTitle": false,
     "tableResultSettingsMap": {},
     "title": ""
    }
   },
   "outputs": [
    {
     "output_type": "stream",
     "name": "stdout",
     "output_type": "stream",
     "text": [
      "root\n |-- make: string (nullable = true)\n |-- horsepower: double (nullable = true)\n |-- torque: double (nullable = true)\n |-- highway_mpg: double (nullable = true)\n\n"
     ]
    }
   ],
   "source": [
    "cars_df.printSchema()"
   ]
  },
  {
   "cell_type": "markdown",
   "metadata": {
    "application/vnd.databricks.v1+cell": {
     "cellMetadata": {
      "byteLimit": 2048000,
      "rowLimit": 10000
     },
     "inputWidgets": {},
     "nuid": "9444a7db-fb39-4559-9316-a25ad16a4175",
     "showTitle": false,
     "tableResultSettingsMap": {},
     "title": ""
    }
   },
   "source": [
    "Casting Cars data DataType"
   ]
  },
  {
   "cell_type": "code",
   "execution_count": 0,
   "metadata": {
    "application/vnd.databricks.v1+cell": {
     "cellMetadata": {
      "byteLimit": 2048000,
      "rowLimit": 10000
     },
     "inputWidgets": {},
     "nuid": "f22f5709-f6a2-49d9-a63a-e932d402a45a",
     "showTitle": false,
     "tableResultSettingsMap": {},
     "title": ""
    }
   },
   "outputs": [
    {
     "output_type": "stream",
     "name": "stdout",
     "output_type": "stream",
     "text": [
      "Updated Schema:\nroot\n |-- make: string (nullable = true)\n |-- horsepower: integer (nullable = true)\n |-- torque: integer (nullable = true)\n |-- highway_mpg: integer (nullable = true)\n\n+----------+----------+------+-----------+\n|      make|horsepower|torque|highway_mpg|\n+----------+----------+------+-----------+\n|     Scion|       156|   156|         29|\n|      MINI|       160|   155|         33|\n|       Kia|       179|   170|         30|\n|     Honda|       188|   175|         30|\n|Volkswagen|       192|   210|         30|\n|Mitsubishi|       195|   196|         26|\n|    Subaru|       205|   200|         26|\n|      Saab|       222|   236|         27|\n|     Lotus|       231|   168|         26|\n|     Volvo|       247|   254|         25|\n|    Toyota|       253|   257|         23|\n|     Acura|       262|   239|         25|\n|  Mercedes|       280|   298|         23|\n|      Audi|       300|   297|         25|\n|     Lexus|       301|   278|         25|\n|  Infiniti|       322|   281|         24|\n|  Cadillac|       340|   324|         22|\n|       BMW|       347|   349|         24|\n|Land Rover|       373|   363|         19|\n|   Porsche|       376|   330|         24|\n+----------+----------+------+-----------+\nonly showing top 20 rows\n\n"
     ]
    }
   ],
   "source": [
    "from pyspark.sql.types import DoubleType, IntegerType\n",
    "for col_name, col_type in cars_df.dtypes:\n",
    "    if col_type == \"double\":\n",
    "        cars_df = cars_df.withColumn(col_name, cars_df[col_name].cast(IntegerType()))\n",
    "\n",
    "# Print the updated schema\n",
    "print(\"Updated Schema:\")\n",
    "cars_df.printSchema()\n",
    "\n",
    "# Show the DataFrame with updated column types\n",
    "cars_df.show()"
   ]
  },
  {
   "cell_type": "markdown",
   "metadata": {
    "application/vnd.databricks.v1+cell": {
     "cellMetadata": {},
     "inputWidgets": {},
     "nuid": "db398c1a-28aa-4e74-85f4-60298be5f91f",
     "showTitle": false,
     "tableResultSettingsMap": {},
     "title": ""
    }
   },
   "source": [
    "Transformations on Cosmetics data"
   ]
  },
  {
   "cell_type": "code",
   "execution_count": 0,
   "metadata": {
    "application/vnd.databricks.v1+cell": {
     "cellMetadata": {
      "byteLimit": 2048000,
      "rowLimit": 10000
     },
     "inputWidgets": {},
     "nuid": "2c730d2e-458e-4318-882a-581dda7d7ff7",
     "showTitle": false,
     "tableResultSettingsMap": {},
     "title": ""
    }
   },
   "outputs": [
    {
     "output_type": "stream",
     "name": "stdout",
     "output_type": "stream",
     "text": [
      "root\n |-- product_id: string (nullable = true)\n |-- product_name: string (nullable = true)\n |-- brand_id: string (nullable = true)\n |-- brand_name: string (nullable = true)\n |-- loves_count: string (nullable = true)\n |-- rating: string (nullable = true)\n |-- reviews: string (nullable = true)\n |-- size: string (nullable = true)\n |-- variation_type: string (nullable = true)\n |-- variation_value: string (nullable = true)\n |-- variation_desc: string (nullable = true)\n |-- ingredients: string (nullable = true)\n |-- price_usd: double (nullable = true)\n |-- value_price_usd: double (nullable = true)\n |-- sale_price_usd: double (nullable = true)\n |-- limited_edition: integer (nullable = true)\n |-- new: integer (nullable = true)\n |-- online_only: integer (nullable = true)\n |-- out_of_stock: integer (nullable = true)\n |-- sephora_exclusive: integer (nullable = true)\n |-- highlights: string (nullable = true)\n |-- primary_category: string (nullable = true)\n |-- secondary_category: string (nullable = true)\n |-- tertiary_category: string (nullable = true)\n |-- child_count: string (nullable = true)\n |-- child_max_price: string (nullable = true)\n |-- child_min_price: string (nullable = true)\n\n"
     ]
    }
   ],
   "source": [
    "cosmetics_df.printSchema()"
   ]
  },
  {
   "cell_type": "markdown",
   "metadata": {
    "application/vnd.databricks.v1+cell": {
     "cellMetadata": {
      "byteLimit": 2048000,
      "rowLimit": 10000
     },
     "inputWidgets": {},
     "nuid": "bf1f7c7f-ed70-440b-af61-adad132cd206",
     "showTitle": false,
     "tableResultSettingsMap": {},
     "title": ""
    }
   },
   "source": [
    "Filtering and renaming required columns"
   ]
  },
  {
   "cell_type": "code",
   "execution_count": 0,
   "metadata": {
    "application/vnd.databricks.v1+cell": {
     "cellMetadata": {
      "byteLimit": 2048000,
      "rowLimit": 10000
     },
     "inputWidgets": {},
     "nuid": "3e17bcac-b6ad-4f37-b4e7-543a5b0a9a32",
     "showTitle": false,
     "tableResultSettingsMap": {},
     "title": ""
    }
   },
   "outputs": [
    {
     "output_type": "stream",
     "name": "stdout",
     "output_type": "stream",
     "text": [
      "root\n |-- product_id: string (nullable = true)\n |-- product_name: string (nullable = true)\n |-- brand_name: string (nullable = true)\n |-- rating: string (nullable = true)\n |-- reviews: string (nullable = true)\n |-- price_usd: double (nullable = true)\n |-- category: string (nullable = true)\n\n"
     ]
    }
   ],
   "source": [
    "#selecting columns and renaming required column\n",
    "required_columns = [\"product_id\", \"product_name\", \"brand_name\", \"rating\", \"reviews\", \"price_usd\"]\n",
    "cosmetics_df = cosmetics_df.select(*[col for col in required_columns],cosmetics_df.primary_category.alias(\"category\"))\n",
    "cosmetics_df.printSchema()\n"
   ]
  },
  {
   "cell_type": "markdown",
   "metadata": {
    "application/vnd.databricks.v1+cell": {
     "cellMetadata": {
      "byteLimit": 2048000,
      "rowLimit": 10000
     },
     "inputWidgets": {},
     "nuid": "b0511fd8-d598-423d-89f0-806d5f3ffe4e",
     "showTitle": false,
     "tableResultSettingsMap": {},
     "title": ""
    }
   },
   "source": [
    "Transformations on Delhi_climate_data"
   ]
  },
  {
   "cell_type": "code",
   "execution_count": 0,
   "metadata": {
    "application/vnd.databricks.v1+cell": {
     "cellMetadata": {
      "byteLimit": 2048000,
      "rowLimit": 10000
     },
     "inputWidgets": {},
     "nuid": "9fd3ed71-859b-4cdf-a491-f88228403e95",
     "showTitle": false,
     "tableResultSettingsMap": {},
     "title": ""
    }
   },
   "outputs": [
    {
     "output_type": "stream",
     "name": "stdout",
     "output_type": "stream",
     "text": [
      "root\n |-- date: date (nullable = true)\n |-- meantemp: double (nullable = true)\n |-- humidity: double (nullable = true)\n |-- wind_speed: double (nullable = true)\n |-- meanpressure: double (nullable = true)\n\n"
     ]
    }
   ],
   "source": [
    "delhiclimate_df.printSchema()"
   ]
  },
  {
   "cell_type": "code",
   "execution_count": 0,
   "metadata": {
    "application/vnd.databricks.v1+cell": {
     "cellMetadata": {
      "byteLimit": 2048000,
      "rowLimit": 10000
     },
     "inputWidgets": {},
     "nuid": "9a78a419-ac97-407c-a9fc-94c0f2be9836",
     "showTitle": false,
     "tableResultSettingsMap": {},
     "title": ""
    }
   },
   "outputs": [
    {
     "output_type": "stream",
     "name": "stdout",
     "output_type": "stream",
     "text": [
      "+----------+------------------+-----------------+------------------+------------------+\n|      date|          meantemp|         humidity|        wind_speed|      meanpressure|\n+----------+------------------+-----------------+------------------+------------------+\n|2017-01-01| 15.91304347826087| 85.8695652173913| 2.743478260869565|              59.0|\n|2017-01-02|              18.5|77.22222222222223|2.8944444444444444|1018.2777777777778|\n|2017-01-03| 17.11111111111111|81.88888888888889| 4.016666666666667|1018.3333333333334|\n|2017-01-04|              18.7|            70.05|             4.545|            1015.7|\n|2017-01-05| 18.38888888888889|74.94444444444444|3.3000000000000003|1014.3333333333334|\n|2017-01-06|19.318181818181817|79.31818181818181| 8.681818181818182|1011.7727272727273|\n|2017-01-07|14.708333333333334|95.83333333333333|10.041666666666664|          1011.375|\n|2017-01-08| 15.68421052631579|83.52631578947368|              1.95|           1015.55|\n|2017-01-09|14.571428571428571|80.80952380952381| 6.542857142857142| 1015.952380952381|\n|2017-01-10| 12.11111111111111|71.94444444444444| 9.361111111111109|1016.8888888888889|\n|2017-01-11|              11.0|72.11111111111111|  9.77222222222222|1016.7777777777778|\n|2017-01-12|11.789473684210526|74.57894736842105| 6.626315789473684|1016.3684210526316|\n|2017-01-13|13.235294117647058|67.05882352941177| 6.435294117647059|1017.5294117647059|\n|2017-01-14|              13.2|            74.28|             5.276|           1018.84|\n|2017-01-15|16.434782608695652|72.56521739130434| 3.630434782608696|1018.1304347826087|\n|2017-01-16|             14.65|            78.45|             10.38|           1017.15|\n|2017-01-17|11.722222222222221|84.44444444444444| 8.038888888888888|1018.3888888888889|\n|2017-01-18|13.041666666666666|78.33333333333333| 6.029166666666664|1021.9583333333334|\n|2017-01-19|14.619047619047619|75.14285714285714|10.338095238095239|1022.8095238095239|\n|2017-01-20|15.263157894736842|66.47368421052632|11.226315789473684|1021.7894736842105|\n+----------+------------------+-----------------+------------------+------------------+\nonly showing top 20 rows\n\n"
     ]
    }
   ],
   "source": [
    "delhiclimate_df.show()"
   ]
  },
  {
   "cell_type": "markdown",
   "metadata": {
    "application/vnd.databricks.v1+cell": {
     "cellMetadata": {
      "byteLimit": 2048000,
      "rowLimit": 10000
     },
     "inputWidgets": {},
     "nuid": "ebc4953f-db59-4757-a763-b97ec2549b08",
     "showTitle": false,
     "tableResultSettingsMap": {},
     "title": ""
    }
   },
   "source": [
    "Round the double values to 2 decimal points"
   ]
  },
  {
   "cell_type": "code",
   "execution_count": 0,
   "metadata": {
    "application/vnd.databricks.v1+cell": {
     "cellMetadata": {
      "byteLimit": 2048000,
      "rowLimit": 10000
     },
     "inputWidgets": {},
     "nuid": "8e13118c-f7ab-4380-bcf4-33025d00af28",
     "showTitle": false,
     "tableResultSettingsMap": {},
     "title": ""
    }
   },
   "outputs": [
    {
     "output_type": "stream",
     "name": "stdout",
     "output_type": "stream",
     "text": [
      "+----------+--------+--------+----------+------------+\n|      date|meantemp|humidity|wind_speed|meanpressure|\n+----------+--------+--------+----------+------------+\n|2017-01-01|   15.91|   85.87|      2.74|        59.0|\n|2017-01-02|    18.5|   77.22|      2.89|     1018.28|\n|2017-01-03|   17.11|   81.89|      4.02|     1018.33|\n|2017-01-04|    18.7|   70.05|      4.55|      1015.7|\n|2017-01-05|   18.39|   74.94|       3.3|     1014.33|\n|2017-01-06|   19.32|   79.32|      8.68|     1011.77|\n|2017-01-07|   14.71|   95.83|     10.04|     1011.38|\n|2017-01-08|   15.68|   83.53|      1.95|     1015.55|\n|2017-01-09|   14.57|   80.81|      6.54|     1015.95|\n|2017-01-10|   12.11|   71.94|      9.36|     1016.89|\n|2017-01-11|    11.0|   72.11|      9.77|     1016.78|\n|2017-01-12|   11.79|   74.58|      6.63|     1016.37|\n|2017-01-13|   13.24|   67.06|      6.44|     1017.53|\n|2017-01-14|    13.2|   74.28|      5.28|     1018.84|\n|2017-01-15|   16.43|   72.57|      3.63|     1018.13|\n|2017-01-16|   14.65|   78.45|     10.38|     1017.15|\n|2017-01-17|   11.72|   84.44|      8.04|     1018.39|\n|2017-01-18|   13.04|   78.33|      6.03|     1021.96|\n|2017-01-19|   14.62|   75.14|     10.34|     1022.81|\n|2017-01-20|   15.26|   66.47|     11.23|     1021.79|\n+----------+--------+--------+----------+------------+\nonly showing top 20 rows\n\n"
     ]
    }
   ],
   "source": [
    "from pyspark.sql.functions import round\n",
    "columns_to_round = [\"meantemp\", \"humidity\",\"wind_speed\",\"meanpressure\"]\n",
    "\n",
    "# Apply rounding to the specified columns\n",
    "for col_name in columns_to_round:\n",
    "    delhiclimate_df = delhiclimate_df.withColumn(col_name, round(delhiclimate_df[col_name], 2))\n",
    "\n",
    "#print the rounded DataFrame\n",
    "delhiclimate_df.show()"
   ]
  },
  {
   "cell_type": "markdown",
   "metadata": {
    "application/vnd.databricks.v1+cell": {
     "cellMetadata": {
      "byteLimit": 2048000,
      "rowLimit": 10000
     },
     "inputWidgets": {},
     "nuid": "8cef52ff-7d3c-43ba-9e7b-717ef13180e6",
     "showTitle": false,
     "tableResultSettingsMap": {},
     "title": ""
    }
   },
   "source": [
    "Transformation on Transactions data"
   ]
  },
  {
   "cell_type": "code",
   "execution_count": 0,
   "metadata": {
    "application/vnd.databricks.v1+cell": {
     "cellMetadata": {
      "byteLimit": 2048000,
      "rowLimit": 10000
     },
     "inputWidgets": {},
     "nuid": "318fb002-0053-4fbc-bf0d-687658617118",
     "showTitle": false,
     "tableResultSettingsMap": {},
     "title": ""
    }
   },
   "outputs": [
    {
     "output_type": "stream",
     "name": "stdout",
     "output_type": "stream",
     "text": [
      "+----------+---------+------------+\n|      date|store_nbr|transactions|\n+----------+---------+------------+\n|2013-01-01|       25|         770|\n|2013-01-02|        1|        2111|\n|2013-01-02|        2|        2358|\n|2013-01-02|        3|        3487|\n|2013-01-02|        4|        1922|\n|2013-01-02|        5|        1903|\n|2013-01-02|        6|        2143|\n|2013-01-02|        7|        1874|\n|2013-01-02|        8|        3250|\n|2013-01-02|        9|        2940|\n|2013-01-02|       10|        1293|\n|2013-01-02|       11|        3547|\n|2013-01-02|       12|        1362|\n|2013-01-02|       13|        1102|\n|2013-01-02|       14|        2002|\n|2013-01-02|       15|        1622|\n|2013-01-02|       16|        1167|\n|2013-01-02|       17|        1580|\n|2013-01-02|       18|        1635|\n|2013-01-02|       19|        1369|\n+----------+---------+------------+\nonly showing top 20 rows\n\n"
     ]
    }
   ],
   "source": [
    "transaction_df.show()"
   ]
  },
  {
   "cell_type": "code",
   "execution_count": 0,
   "metadata": {
    "application/vnd.databricks.v1+cell": {
     "cellMetadata": {
      "byteLimit": 2048000,
      "rowLimit": 10000
     },
     "inputWidgets": {},
     "nuid": "e55b92b1-8d30-4351-b31b-de32eff1cac5",
     "showTitle": false,
     "tableResultSettingsMap": {},
     "title": ""
    }
   },
   "outputs": [
    {
     "output_type": "stream",
     "name": "stdout",
     "output_type": "stream",
     "text": [
      "Min Transaction Date: 2013-01-01\nMax Transaction Date: 2017-08-15\n"
     ]
    }
   ],
   "source": [
    "from pyspark.sql.functions import max, min\n",
    "\n",
    "# Calculate max and min transaction dates\n",
    "max_date = transaction_df.select(max(\"date\")).collect()[0][0]\n",
    "min_date = transaction_df.select(min(\"date\")).collect()[0][0]\n",
    "\n",
    "# Print results\n",
    "print(f\"Min Transaction Date: {min_date}\")\n",
    "print(f\"Max Transaction Date: {max_date}\")"
   ]
  },
  {
   "cell_type": "markdown",
   "metadata": {
    "application/vnd.databricks.v1+cell": {
     "cellMetadata": {
      "byteLimit": 2048000,
      "rowLimit": 10000
     },
     "inputWidgets": {},
     "nuid": "7ff082f6-7a89-48a7-b751-5c9fbd5831e5",
     "showTitle": false,
     "tableResultSettingsMap": {},
     "title": ""
    }
   },
   "source": [
    "need transactions only for year 2015"
   ]
  },
  {
   "cell_type": "code",
   "execution_count": 0,
   "metadata": {
    "application/vnd.databricks.v1+cell": {
     "cellMetadata": {
      "byteLimit": 2048000,
      "rowLimit": 10000
     },
     "inputWidgets": {},
     "nuid": "c4102d9f-a7fb-4f37-bc82-139cec1ef77c",
     "showTitle": false,
     "tableResultSettingsMap": {},
     "title": ""
    }
   },
   "outputs": [
    {
     "output_type": "stream",
     "name": "stdout",
     "output_type": "stream",
     "text": [
      "+----------+---------+------------+\n|      date|store_nbr|transactions|\n+----------+---------+------------+\n|2015-01-01|       25|        2202|\n|2015-01-02|        1|        1021|\n|2015-01-02|        2|        1859|\n|2015-01-02|        3|        3429|\n|2015-01-02|        4|        1521|\n|2015-01-02|        5|        1772|\n|2015-01-02|        6|        2061|\n|2015-01-02|        7|        1480|\n|2015-01-02|        8|        2638|\n|2015-01-02|        9|        2403|\n|2015-01-02|       10|        1146|\n|2015-01-02|       11|        2988|\n|2015-01-02|       12|        1364|\n|2015-01-02|       13|        1149|\n|2015-01-02|       14|        1541|\n|2015-01-02|       15|        1380|\n|2015-01-02|       16|        1102|\n|2015-01-02|       17|        1491|\n|2015-01-02|       18|         984|\n|2015-01-02|       19|        1622|\n+----------+---------+------------+\nonly showing top 20 rows\n\n"
     ]
    }
   ],
   "source": [
    "from pyspark.sql.functions import year\n",
    "\n",
    "# Filter transactions for the year 2015\n",
    "transaction_df = transaction_df.filter(year(\"date\") == 2015)\n",
    "\n",
    "# Show the resulting DataFrame\n",
    "transaction_df.show()"
   ]
  },
  {
   "cell_type": "markdown",
   "metadata": {
    "application/vnd.databricks.v1+cell": {
     "cellMetadata": {
      "byteLimit": 2048000,
      "rowLimit": 10000
     },
     "inputWidgets": {},
     "nuid": "67ab1786-9797-416d-81a5-162f1ce23462",
     "showTitle": false,
     "tableResultSettingsMap": {},
     "title": ""
    }
   },
   "source": [
    "Storing transformed Data Back into ADLS account"
   ]
  },
  {
   "cell_type": "code",
   "execution_count": 0,
   "metadata": {
    "application/vnd.databricks.v1+cell": {
     "cellMetadata": {
      "byteLimit": 2048000,
      "rowLimit": 10000
     },
     "inputWidgets": {},
     "nuid": "a32d3266-af66-4e32-86f2-45962cb6a64a",
     "showTitle": false,
     "tableResultSettingsMap": {},
     "title": ""
    }
   },
   "outputs": [],
   "source": [
    "cars_df.write.mode(\"append\").option(\"header\",\"true\").parquet(\"/mnt/rawdata/Transformed_Data/Cars\")\n",
    "cosmetics_df.write.mode(\"append\").option(\"header\",\"true\").parquet(\"/mnt/rawdata/Transformed_Data/Cosmetics\")\n",
    "delhiclimate_df.write.mode(\"append\").option(\"header\",\"true\").parquet(\"/mnt/rawdata/Transformed_Data/DelhiClimate\")\n",
    "transaction_df.write.mode(\"append\").option(\"header\",\"true\").parquet(\"/mnt/rawdata/Transformed_Data/Transaction\")\n"
   ]
  },
  {
   "cell_type": "code",
   "execution_count": 0,
   "metadata": {
    "application/vnd.databricks.v1+cell": {
     "cellMetadata": {
      "byteLimit": 2048000,
      "rowLimit": 10000
     },
     "inputWidgets": {},
     "nuid": "8192a08d-6963-46c5-8e94-7fca1ffba7e9",
     "showTitle": false,
     "tableResultSettingsMap": {},
     "title": ""
    }
   },
   "outputs": [
    {
     "output_type": "stream",
     "name": "stdout",
     "output_type": "stream",
     "text": [
      "/mnt/rawdata has been unmounted.\n"
     ]
    },
    {
     "output_type": "execute_result",
     "data": {
      "text/plain": [
       "True"
      ]
     },
     "execution_count": 42,
     "metadata": {},
     "output_type": "execute_result"
    }
   ],
   "source": [
    "#unmounnt adls\n",
    "dbutils.fs.unmount(\"/mnt/rawdata\")"
   ]
  }
 ],
 "metadata": {
  "application/vnd.databricks.v1+notebook": {
   "computePreferences": null,
   "dashboards": [],
   "environmentMetadata": {
    "base_environment": "",
    "client": "1"
   },
   "language": "python",
   "notebookMetadata": {
    "mostRecentlyExecutedCommandWithImplicitDF": {
     "commandId": 3605124921276990,
     "dataframes": [
      "_sqldf"
     ]
    },
    "pythonIndentUnit": 4
   },
   "notebookName": "azure_proj_data_transform",
   "widgets": {}
  },
  "language_info": {
   "name": "python"
  }
 },
 "nbformat": 4,
 "nbformat_minor": 0
}
